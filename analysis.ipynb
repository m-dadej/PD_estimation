{
 "cells": [
  {
   "cell_type": "code",
   "execution_count": 1,
   "metadata": {},
   "outputs": [],
   "source": [
    "from imblearn.over_sampling import SMOTE\n",
    "import sklearn as sk\n",
    "from sklearn.neural_network import MLPClassifier\n",
    "import random as rnd\n",
    "import matplotlib.pyplot as plt"
   ]
  },
  {
   "cell_type": "code",
   "execution_count": 2,
   "metadata": {},
   "outputs": [
    {
     "name": "stdout",
     "output_type": "stream",
     "text": [
      "Reading file: orbis_active_be.xlsx ...\n",
      "Reading file: orbis_active_de.xlsx ...\n",
      "Reading file: orbis_active_es.xlsx ...\n",
      "Reading file: orbis_active_fin.xlsx ...\n",
      "Reading file: orbis_active_fra.xlsx ...\n",
      "Reading file: orbis_active_it.xlsx ...\n",
      "Reading file: orbis_active_no.xlsx ...\n",
      "Reading file: orbis_active_rest.xlsx ...\n",
      "Reading file: orbis_active_se.xlsx ...\n",
      "Reading file: orbis_default.xlsx ...\n"
     ]
    }
   ],
   "source": [
    "%run -i \"data_preproc.py\""
   ]
  },
  {
   "cell_type": "code",
   "execution_count": 3,
   "metadata": {},
   "outputs": [
    {
     "data": {
      "text/plain": [
       "country\n",
       "IT    35458\n",
       "SE    34660\n",
       "ES    33540\n",
       "FR    33117\n",
       "DE    33100\n",
       "DK    32246\n",
       "FI    24967\n",
       "NO    21206\n",
       "NL     4676\n",
       "AT     3080\n",
       "IS     2364\n",
       "BE      640\n",
       "CY       42\n",
       "LU        1\n",
       "Name: country, dtype: int64"
      ]
     },
     "execution_count": 3,
     "metadata": {},
     "output_type": "execute_result"
    }
   ],
   "source": [
    "df['country'].groupby([df['country']]).count().sort_values(ascending=False)"
   ]
  },
  {
   "cell_type": "code",
   "execution_count": 5,
   "metadata": {},
   "outputs": [
    {
     "data": {
      "text/plain": [
       "revenue_lag     0.198200\n",
       "revenue         0.171048\n",
       "lt_debt         0.079032\n",
       "cash            0.045801\n",
       "pnl_lag         0.032853\n",
       "ebit_lag        0.032235\n",
       "assets_lag      0.020367\n",
       "capital         0.010818\n",
       "sector          0.005318\n",
       "ebit            0.000120\n",
       "fixed_assets    0.000012\n",
       "assets          0.000004\n",
       "assets_log      0.000004\n",
       "CY              0.000000\n",
       "FR              0.000000\n",
       "IS              0.000000\n",
       "SE              0.000000\n",
       "AT              0.000000\n",
       "BE              0.000000\n",
       "NL              0.000000\n",
       "NO              0.000000\n",
       "IT              0.000000\n",
       "Inactive        0.000000\n",
       "FI              0.000000\n",
       "ES              0.000000\n",
       "DE              0.000000\n",
       "DK              0.000000\n",
       "country         0.000000\n",
       "curr_liab       0.000000\n",
       "curr_assets     0.000000\n",
       "pnl             0.000000\n",
       "last_year       0.000000\n",
       "LU              0.000000\n",
       "dtype: float64"
      ]
     },
     "execution_count": 5,
     "metadata": {},
     "output_type": "execute_result"
    }
   ],
   "source": [
    "# NAs share among original variables\n",
    "(df.loc[:, ~df.columns.str.contains('ratio|ch|sector_')].isna().sum() / df.shape[0]).sort_values(ascending=False)"
   ]
  },
  {
   "cell_type": "code",
   "execution_count": 3,
   "metadata": {},
   "outputs": [],
   "source": [
    "split_share = 0.8\n",
    "\n",
    "rnd.seed(1)\n",
    "train_id = rnd.sample(range(df.shape[0]), round(df.shape[0] * split_share))\n",
    "\n",
    "train_df = df.drop(['country', 'last_year', 'sector'], axis=1).loc[train_id]\n",
    "test_df  = df.drop(['country', 'last_year', 'sector'], axis=1).loc[~np.isin(list(range(df.shape[0])), train_id)]"
   ]
  },
  {
   "cell_type": "code",
   "execution_count": 4,
   "metadata": {},
   "outputs": [],
   "source": [
    "\n",
    "# univariate imputing with train dataset median of given variable. \n",
    "for variable in train_df.loc[:, train_df.apply(lambda x: any(x.isna()))].columns:\n",
    "    train_df.loc[train_df[variable].isna(), variable] = train_df[variable].median()\n",
    "    test_df.loc[test_df[variable].isna(), variable] = test_df[variable].median()\n",
    "\n",
    "# idea to implement: multivariate LM imputing based on no NAs variable"
   ]
  },
  {
   "cell_type": "code",
   "execution_count": 5,
   "metadata": {},
   "outputs": [],
   "source": [
    "X_train_sm, y_train_sm = SMOTE(random_state=1).fit_resample(train_df.loc[:,~np.isin(train_df.columns, 'Inactive')], train_df['Inactive'])"
   ]
  },
  {
   "cell_type": "code",
   "execution_count": 6,
   "metadata": {},
   "outputs": [],
   "source": [
    "rnd.seed(1)\n",
    "os_indexes = rnd.choices(list(train_df[train_df.Inactive == 1].index), k = np.sum(train_df.Inactive == 0) - np.sum(train_df.Inactive == 1))\n",
    "us_indexes = rnd.sample(list(train_df[train_df.Inactive == 0].index), k = np.sum(train_df.Inactive == 1))\n",
    "\n",
    "train_df_os = pd.concat([train_df.loc[os_indexes,:], train_df])\n",
    "train_df_us = pd.concat([train_df.loc[train_df.Inactive == 1], train_df.loc[us_indexes]])\n",
    "\n",
    "X_train_us = train_df_us.loc[:, train_df_us.columns != 'Inactive']\n",
    "y_train_us = train_df_us.Inactive\n",
    "X_train_os = train_df_os.loc[:, train_df_os.columns != 'Inactive']\n",
    "y_train_os = train_df_os.Inactive\n"
   ]
  },
  {
   "cell_type": "code",
   "execution_count": 7,
   "metadata": {},
   "outputs": [
    {
     "name": "stderr",
     "output_type": "stream",
     "text": [
      "c:\\Users\\HP\\AppData\\Local\\Programs\\Python\\Python39\\lib\\site-packages\\sklearn\\neural_network\\_multilayer_perceptron.py:702: ConvergenceWarning: Stochastic Optimizer: Maximum iterations (300) reached and the optimization hasn't converged yet.\n",
      "  warnings.warn(\n"
     ]
    }
   ],
   "source": [
    "\n",
    "scaler = sk.preprocessing.StandardScaler()\n",
    "\n",
    "scaler.fit(X_train_us)  \n",
    "X_train = scaler.transform(X_train_us) \n",
    "\n",
    "clf = MLPClassifier(random_state=1, max_iter=300).fit(X_train, y_train_us)"
   ]
  },
  {
   "cell_type": "code",
   "execution_count": 10,
   "metadata": {},
   "outputs": [
    {
     "data": {
      "text/html": [
       "<div>\n",
       "<style scoped>\n",
       "    .dataframe tbody tr th:only-of-type {\n",
       "        vertical-align: middle;\n",
       "    }\n",
       "\n",
       "    .dataframe tbody tr th {\n",
       "        vertical-align: top;\n",
       "    }\n",
       "\n",
       "    .dataframe thead th {\n",
       "        text-align: right;\n",
       "    }\n",
       "</style>\n",
       "<table border=\"1\" class=\"dataframe\">\n",
       "  <thead>\n",
       "    <tr style=\"text-align: right;\">\n",
       "      <th>actual</th>\n",
       "      <th>0</th>\n",
       "      <th>1</th>\n",
       "    </tr>\n",
       "    <tr>\n",
       "      <th>pred</th>\n",
       "      <th></th>\n",
       "      <th></th>\n",
       "    </tr>\n",
       "  </thead>\n",
       "  <tbody>\n",
       "    <tr>\n",
       "      <th>0</th>\n",
       "      <td>36054</td>\n",
       "      <td>217</td>\n",
       "    </tr>\n",
       "    <tr>\n",
       "      <th>1</th>\n",
       "      <td>14367</td>\n",
       "      <td>1181</td>\n",
       "    </tr>\n",
       "  </tbody>\n",
       "</table>\n",
       "</div>"
      ],
      "text/plain": [
       "actual      0     1\n",
       "pred               \n",
       "0       36054   217\n",
       "1       14367  1181"
      ]
     },
     "execution_count": 10,
     "metadata": {},
     "output_type": "execute_result"
    }
   ],
   "source": [
    "X_test = scaler.transform(test_df.loc[:,test_df.columns != 'Inactive']) \n",
    "pred_df = pd.DataFrame({'pred': clf.predict_proba(X_test)[:,1], 'actual': np.array(test_df.Inactive)})\n",
    "pred_df['pred'] = np.where(pred_df['pred'] > 0.4, 1, 0)\n",
    "\n",
    "pd.crosstab(pred_df.pred, pred_df.actual)"
   ]
  },
  {
   "cell_type": "code",
   "execution_count": 180,
   "metadata": {},
   "outputs": [],
   "source": [
    "%run -i \"pred_metrics_class.py\""
   ]
  },
  {
   "cell_type": "code",
   "execution_count": 172,
   "metadata": {},
   "outputs": [
    {
     "data": {
      "text/html": [
       "<div>\n",
       "<style scoped>\n",
       "    .dataframe tbody tr th:only-of-type {\n",
       "        vertical-align: middle;\n",
       "    }\n",
       "\n",
       "    .dataframe tbody tr th {\n",
       "        vertical-align: top;\n",
       "    }\n",
       "\n",
       "    .dataframe thead th {\n",
       "        text-align: right;\n",
       "    }\n",
       "</style>\n",
       "<table border=\"1\" class=\"dataframe\">\n",
       "  <thead>\n",
       "    <tr style=\"text-align: right;\">\n",
       "      <th>actual</th>\n",
       "      <th>0</th>\n",
       "      <th>1</th>\n",
       "    </tr>\n",
       "    <tr>\n",
       "      <th>default_prob</th>\n",
       "      <th></th>\n",
       "      <th></th>\n",
       "    </tr>\n",
       "  </thead>\n",
       "  <tbody>\n",
       "    <tr>\n",
       "      <th>0</th>\n",
       "      <td>42599</td>\n",
       "      <td>454</td>\n",
       "    </tr>\n",
       "    <tr>\n",
       "      <th>1</th>\n",
       "      <td>7822</td>\n",
       "      <td>944</td>\n",
       "    </tr>\n",
       "  </tbody>\n",
       "</table>\n",
       "</div>"
      ],
      "text/plain": [
       "actual            0    1\n",
       "default_prob            \n",
       "0             42599  454\n",
       "1              7822  944"
      ]
     },
     "execution_count": 172,
     "metadata": {},
     "output_type": "execute_result"
    }
   ],
   "source": [
    "metrics = PredMetrics(pred_pd = clf.predict_proba(X_test)[:,1],\n",
    "                       actual = np.array(test_df.Inactive))\n",
    "\n",
    "\n",
    "metrics.confusion_mat(0.7)"
   ]
  },
  {
   "cell_type": "code",
   "execution_count": 177,
   "metadata": {},
   "outputs": [
    {
     "data": {
      "image/png": "[encoded data removed]",
      "text/plain": [
       "<Figure size 432x288 with 1 Axes>"
      ]
     },
     "metadata": {
      "needs_background": "light"
     },
     "output_type": "display_data"
    }
   ],
   "source": [
    "thresholds = np.linspace(start=0, stop=1, num=100)\n",
    "\n",
    "tnr = [metrics.tnr(i) for i in thresholds]\n",
    "tpr = [metrics.tpr(i) for i in thresholds]\n",
    "\n",
    "plt.plot(thresholds, tnr, label = \"tnr\")\n",
    "plt.plot(thresholds, tpr, label = \"tpr\")\n",
    "plt.legend()\n",
    "plt.show()"
   ]
  }
 ],
 "metadata": {
  "interpreter": {
   "hash": "f6246b25e200e4c5124e3e61789ac81350562f0761bbcf92ad9e48654207659c"
  },
  "kernelspec": {
   "display_name": "Python 3.9.5 64-bit",
   "language": "python",
   "name": "python3"
  },
  "language_info": {
   "codemirror_mode": {
    "name": "ipython",
    "version": 3
   },
   "file_extension": ".py",
   "mimetype": "text/x-python",
   "name": "python",
   "nbconvert_exporter": "python",
   "pygments_lexer": "ipython3",
   "version": "3.9.5"
  },
  "orig_nbformat": 4
 },
 "nbformat": 4,
 "nbformat_minor": 2
}
